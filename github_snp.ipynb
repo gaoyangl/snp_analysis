{
 "cells": [
  {
   "cell_type": "code",
   "execution_count": null,
   "metadata": {},
   "outputs": [],
   "source": [
    "import numpy as np\n",
    "import pandas as pd\n",
    "import matplotlib.pyplot as plt\n",
    "import seaborn as sns\n",
    "%matplotlib inline\n",
    "import statistics\n",
    "from sklearn.tree import DecisionTreeClassifier\n",
    "from scipy import stats\n",
    "from scipy.stats import ttest_ind\n",
    "from sklearn.ensemble import RandomForestClassifier\n",
    "from sklearn.metrics import classification_report,confusion_matrix\n",
    "from sklearn.model_selection import train_test_split\n",
    "from sklearn.metrics import roc_curve, auc"
   ]
  },
  {
   "cell_type": "code",
   "execution_count": null,
   "metadata": {},
   "outputs": [],
   "source": [
    "#fill in your interested variables\n",
    "category_clinical_varibles = ['sex', 'smoking', 'xxxx']\n",
    "category_snp_varibles = ['rsxxxx', 'rsxxxx']\n",
    "continous_clinical_varibles = ['age','bmi', 'xxxx]\n",
    "criteria_c = 'xxx'  ### according to this, the patients are classified into two groups\n"
   ]
  },
  {
   "cell_type": "code",
   "execution_count": null,
   "metadata": {},
   "outputs": [],
   "source": [
    "#read file \n",
    "df_STATA = pd.read_excel('all_sample_dfclean_transform_forSTATA.xlsx')"
   ]
  },
  {
   "cell_type": "code",
   "execution_count": null,
   "metadata": {
    "scrolled": true
   },
   "outputs": [],
   "source": [
    "#check the null value \n",
    "\n",
    "df_STATA= df_STATA[category_snp_varibles + category_clinical_varibles\n",
    "                    + continous_clinical_varibles + [criteria_c]\n",
    "                    + ['sampleID']].dropna(axis=0,how='any')"
   ]
  },
  {
   "cell_type": "code",
   "execution_count": null,
   "metadata": {},
   "outputs": [],
   "source": [
    "#######start to do the statistic analysis#######  \n",
    "df = df_STATA"
   ]
  },
  {
   "cell_type": "code",
   "execution_count": null,
   "metadata": {},
   "outputs": [],
   "source": [
    "#calculate the p value for snp variables chi-squared\n",
    "def chi_p_calc(features, dataframe, threshold, cols=['chi', 'p_value']):\n",
    "    \n",
    "    result_chi_p = {}\n",
    "\n",
    "    for feature in features:\n",
    "        cross_table = pd.crosstab(dataframe[feature],\n",
    "                                  dataframe[criteria_c], margins = True) \n",
    "        #print(cross_table)\n",
    "        f_obs = []\n",
    "        for n in np.arange(len(dataframe[feature].value_counts())):\n",
    "            f_obs.append(cross_table.iloc[n][0:2].values)\n",
    "            #print(f_obs)\n",
    "        P = stats.chi2_contingency(f_obs, correction=False)[1]\n",
    "        #print(stats.chi2_contingency(f_obs, correction=False))\n",
    "        chi = stats.chi2_contingency(f_obs, correction=False)[0]\n",
    "        result_chi_p[feature] = [chi, P]\n",
    "        #print(\"----------------\", result_chi_p)\n",
    "    df_p = pd.DataFrame.from_dict(result_chi_p, orient = 'index', \n",
    "                                  columns = cols)\n",
    "    df_p = df_p.reset_index().rename(columns = {'index' : 'variables'})\n",
    "    df_p = df_p.round(decimals = 2)\n",
    "    \n",
    "    lessthan = list(df_p[df_p[cols[1]] <= threshold]['variables'])  ##pick up variables if\n",
    "    ##p value is small enough for future machine learning inputs. \n",
    "    ##Here the cut-off value is 0.3\n",
    "    return df_p, lessthan\n",
    "\n",
    "figure_snps_genotype, selected_snps_genotype = chi_p_calc(category_snp_varibles, df, \n",
    "                                                          0.3, ['chi_genotype', 'p_value_genotype'])\n"
   ]
  },
  {
   "cell_type": "code",
   "execution_count": null,
   "metadata": {},
   "outputs": [],
   "source": [
    "##switch the df to recessive model##\n",
    "df_recessive= df[category_snp_varibles]\n",
    "df_recessive[df_recessive == 1] = 0\n",
    "df_recessive[df_recessive == 2] = 1\n",
    "df_recessive = pd.concat([df_recessive, df[criteria_c]], axis = 1)\n",
    "#new 0 : major + heter  #new 1: minor \n"
   ]
  },
  {
   "cell_type": "code",
   "execution_count": null,
   "metadata": {},
   "outputs": [],
   "source": [
    "#calculate the p value for snp variables in recessive model\n",
    "\n",
    "figure_snps_recessive, selected_snps_recessive = chi_p_calc(category_snp_varibles, df_recessive,\n",
    "                                                            0.3, ['chi_recessive', 'p_value_recessive'])\n"
   ]
  },
  {
   "cell_type": "code",
   "execution_count": null,
   "metadata": {},
   "outputs": [],
   "source": [
    "##switch the df to dominat model##\n",
    "df_dominant= df[category_snp_varibles]\n",
    "df_dominant[df_dominant == 1] = 'A'\n",
    "df_dominant[df_dominant == 2] = 'A'\n",
    "df_dominant[df_dominant == 0] = 'B'\n",
    "df_dominant[df_dominant == 'A'] = 0\n",
    "df_dominant[df_dominant == 'B'] = 1\n",
    "df_dominant = pd.concat([df_dominant, df[criteria_c]], axis =1)\n",
    "#new 0 : heter + minor  #new 1: major "
   ]
  },
  {
   "cell_type": "code",
   "execution_count": null,
   "metadata": {},
   "outputs": [],
   "source": [
    "#calculate the p value for snp variables in dominant model\n",
    "figure_snps_dominant, selected_snps_dominant = chi_p_calc(category_snp_varibles, \n",
    "                                                          df_dominant, 0.3, \n",
    "                                                         ['chi_dominant', 'p_value_dominant'])"
   ]
  },
  {
   "cell_type": "code",
   "execution_count": null,
   "metadata": {},
   "outputs": [],
   "source": [
    "#calculate the p value for clinical category variables\n",
    "figure_cy, selected_cy = chi_p_calc(category_clinical_varibles, df, 0.1)"
   ]
  },
  {
   "cell_type": "code",
   "execution_count": null,
   "metadata": {},
   "outputs": [],
   "source": [
    "#calculate the p value for clinical continous variables\n",
    "result_t_test = {}\n",
    "\n",
    "responders = df[df[criteria_c]== 1]\n",
    "non_responders = df[df[criteria_c]== 0]\n",
    "\n",
    "for feature in continous_clinical_varibles:\n",
    "    mean_responders = statistics.mean(responders[feature].dropna()) \n",
    "    mean_nonresponders = statistics.mean(non_responders[feature].dropna()) \n",
    "    SD_responders = statistics.stdev(responders[feature].dropna())   \n",
    "    SD_nonresponders = statistics.stdev(non_responders[feature].dropna())  \n",
    "    \n",
    "    t, p = ttest_ind(responders[feature].dropna(), non_responders[feature].dropna())\n",
    "    result_t_test[feature] = [mean_responders, SD_responders, mean_nonresponders, SD_nonresponders, t, p]\n",
    "    \n",
    "df_p = pd.DataFrame.from_dict(result_t_test, orient = 'index', \n",
    "                              columns = ['mean_R', 'SD_R', 'mean_NR', 'SD_NR', 't', 'p_value'])\n",
    "df_p = df_p.reset_index().rename(columns = {'index' : 'variables'})\n",
    "df_pnew = df_p.round(decimals = 2)\n",
    "df_pnew['mean_R ± SD'] =  df_pnew['mean_R'].map(str) + ' ± ' + df_pnew['SD_R'].map(str)\n",
    "df_pnew['mean_NR ± SD'] =  df_pnew['mean_NR'].map(str) + ' ± ' + df_pnew['SD_NR'].map(str)\n",
    "df_pnewnew = df_pnew[['variables', 'mean_R ± SD', 'mean_NR ± SD', 't', 'p_value']]\n",
    "\n",
    "selected_cs = list(df_p[df_p['p_value'] <= 0.1]['variables']) #cc means clinical continous data\n",
    "figure_cs = df_pnewnew"
   ]
  },
  {
   "cell_type": "code",
   "execution_count": null,
   "metadata": {
    "scrolled": true
   },
   "outputs": [],
   "source": [
    "#draw the histogram for all the continous variables\n",
    "plt.figure(figsize=(40, 25))\n",
    "for i, feature in enumerate(continous_clinical_varibles): \n",
    "    plt.subplot(6, 5 ,i +1)\n",
    "    sns.distplot(df[feature], bins = 20, rug = True)\n",
    "#plt.savefig('distribution for 6th remission.jpg')"
   ]
  },
  {
   "cell_type": "code",
   "execution_count": null,
   "metadata": {
    "scrolled": true
   },
   "outputs": [],
   "source": [
    "figure_snps = pd.merge(figure_snps_genotype, figure_snps_recessive, on ='variables')\n",
    "figure_snps = pd.merge(figure_snps, figure_snps_dominant, on ='variables')\n",
    "figure_snps_p = figure_snps[['variables', 'p_value_genotype', 'p_value_recessive', 'p_value_dominant']]"
   ]
  },
  {
   "cell_type": "code",
   "execution_count": null,
   "metadata": {},
   "outputs": [],
   "source": [
    "##mark red if p value is below 0.3\n",
    "def snp_red(val):\n",
    "    if val<0.3:\n",
    "        color = 'red'\n",
    "    else:\n",
    "        color = 'black'\n",
    "    return ('color:%s'%color)\n",
    "\n",
    "figure_snps_p.style.applymap(snp_red, subset = ['p_value_genotype', 'p_value_recessive', 'p_value_dominant']) "
   ]
  },
  {
   "cell_type": "code",
   "execution_count": null,
   "metadata": {},
   "outputs": [],
   "source": [
    "figure_cy\n",
    "def clinicalinfo_red(val):\n",
    "    if val<0.1:\n",
    "        color = 'red'\n",
    "    else:\n",
    "        color = 'black'\n",
    "    return ('color:%s'%color)\n",
    "\n",
    "figure_cy.style.applymap(clinicalinfo_red, subset = ['p_value']) "
   ]
  },
  {
   "cell_type": "code",
   "execution_count": null,
   "metadata": {
    "scrolled": true
   },
   "outputs": [],
   "source": [
    "figure_cs\n",
    "figure_cs.style.applymap(clinicalinfo_red, subset = ['p_value']) "
   ]
  },
  {
   "cell_type": "code",
   "execution_count": null,
   "metadata": {},
   "outputs": [],
   "source": [
    "selected_cs\n",
    "selected_snps = list(set(selected_snps_dominant + selected_snps_recessive + selected_snps_genotype))\n",
    "selected_cy"
   ]
  },
  {
   "cell_type": "code",
   "execution_count": null,
   "metadata": {},
   "outputs": [],
   "source": [
    "#########start to preprocessing data for machine learning##########\n",
    "###drop the samples if the variable is NAN\n",
    "\n",
    "df = df_STATA_ML[category_snp_varibles + selected_cs + selected_cy + [criteria_c] + ['sampleID']].dropna(axis=0,how='any')\n",
    "#189\n",
    "##define a new df"
   ]
  },
  {
   "cell_type": "code",
   "execution_count": null,
   "metadata": {},
   "outputs": [],
   "source": [
    "##here is the dataframe with dummy data\n",
    "dummy_fields = category_snp_varibles + selected_cy\n",
    "for each in dummy_fields:\n",
    "    dummies = pd.get_dummies(df.loc[:, each], prefix = each)\n",
    "    df = pd.concat([df, dummies], axis = 1)\n",
    "df.shape"
   ]
  },
  {
   "cell_type": "code",
   "execution_count": null,
   "metadata": {},
   "outputs": [],
   "source": [
    "###dummy list for all snps\n",
    "dummylist_category_snp_varibles = []\n",
    "for each in category_snp_varibles:\n",
    "    dummies = pd.get_dummies(df.loc[:, each], prefix = each)\n",
    "    dummylist_category_snp_varibles.extend(list(dummies.columns))    \n",
    "    \n",
    "###dummy list for selected_cy\n",
    "dummylist_cy = []\n",
    "for each in selected_cy:\n",
    "    dummies = pd.get_dummies(df.loc[:, each], prefix = each)\n",
    "    dummylist_cy.extend(list(dummies.columns))\n",
    "    \n",
    "###dummy list for selected snps\n",
    "dummylist_selectedsnps= []\n",
    "for each in selected_snps:\n",
    "    dummies = pd.get_dummies(df.loc[:, each], prefix = each)\n",
    "    dummylist_selectedsnps.extend(list(dummies.columns))  "
   ]
  },
  {
   "cell_type": "code",
   "execution_count": null,
   "metadata": {},
   "outputs": [],
   "source": [
    "##########start machine learning##########\n",
    "\n",
    "#NO.1-include clinical data and 24 snps features decision tree\n",
    "def prediction_DT_calc(inputs, iteration=100):\n",
    "    resultlist = [] \n",
    "    for i in range(iteration):\n",
    "        X = df[inputs]\n",
    "        y = df[criteria_c]\n",
    "        X_train, X_test, y_train, y_test = train_test_split(X, y, test_size=0.30)\n",
    "        dtree = DecisionTreeClassifier()\n",
    "        fit = dtree.fit(X_train,y_train)\n",
    "        result = fit.score(X_test, y_test)\n",
    "        resultlist.append(result)\n",
    "        \n",
    "    mean = statistics.mean(resultlist) * 100\n",
    "    SD = statistics.stdev(resultlist) *100\n",
    "    SE = SD/np.sqrt(len(y_test))\n",
    "    return {'mean': mean, \"SD\": SD, \"SE\": SE}\n",
    "   \n",
    "stat1 = prediction_DT_calc(dummylist_category_snp_varibles\n",
    "                                                 + dummylist_cy + selected_cs)\n",
    "\n",
    "stat1['index'] = \"combo1\"\n",
    "stat1"
   ]
  },
  {
   "cell_type": "code",
   "execution_count": null,
   "metadata": {},
   "outputs": [],
   "source": [
    "#No.1-include clnical data and all 24 SNPs features Random forest\n",
    "\n",
    "def prediction_RF_calc(inputs, iteration=100):\n",
    "    resultlist_RF = []\n",
    "    for i in range(iteration):\n",
    "        X = df[inputs]\n",
    "        y = df[criteria_c]\n",
    "        X_train, X_test, y_train, y_test = train_test_split(X, y, test_size=0.30)\n",
    "        rfc = RandomForestClassifier(n_estimators=100)\n",
    "        rfc.fit(X_train, y_train)\n",
    "        rfc_pred = rfc.predict(X_test)\n",
    "        maybeIneed = confusion_matrix(y_test,rfc_pred)\n",
    "        report = classification_report(y_test,rfc_pred)\n",
    "        \n",
    "        result_RF = pd.DataFrame(\n",
    "            classification_report(y_test,rfc_pred, output_dict=True)\n",
    "        ).transpose().loc['accuracy', 'f1-score']\n",
    "        \n",
    "        resultlist_RF.append(result_RF)\n",
    "\n",
    "    mean = statistics.mean(resultlist_RF) * 100\n",
    "    SD = statistics.stdev(resultlist_RF) *100\n",
    "    SE = SD/np.sqrt(len(y_test))\n",
    "    return {'mean': mean, \"SD\": SD, \"SE\": SE}, (report, X_train, y_train, X_test, y_test)\n",
    "\n",
    "stat_rf_1, info = prediction_RF_calc(\n",
    "    dummylist_category_snp_varibles + dummylist_cy + selected_cs)\n",
    "\n",
    "stat_rf_1['index'] = \"combo1\"\n",
    "stat_rf_1\n"
   ]
  },
  {
   "cell_type": "code",
   "execution_count": null,
   "metadata": {},
   "outputs": [],
   "source": [
    "\n",
    "#No.1-include all snp features--ROC\n",
    "def drawROC(info):\n",
    "    rfc = RandomForestClassifier(n_estimators=100)\n",
    "    fit = rfc.fit(info[1], info[2])\n",
    "    # ROC\n",
    "    y_score = rfc.fit(info[1], info[2]).predict_proba(info[3])  \n",
    "    fpr, tpr, thresholds = roc_curve(info[4], y_score[:, 1])\n",
    "    roc = auc(fpr, tpr)\n",
    "    plt.subplots(figsize=(7, 5.5))\n",
    "    plt.plot(fpr, tpr, color='darkorange', lw=2, label='ROC curve (area = %0.2f)' % roc)\n",
    "    plt.plot([0, 1], [0, 1], color='navy', lw=2, linestyle='--')\n",
    "    plt.xlim([0.0, 1.0])\n",
    "    plt.ylim([0.0, 1.05])\n",
    "    plt.xlabel('False Positive Rate')\n",
    "    plt.ylabel('True Positive Rate')\n",
    "    plt.title('ROC Curve')\n",
    "    plt.legend(loc=\"lower right\")\n",
    "    plt.show()\n",
    "\n",
    "drawROC(info)"
   ]
  },
  {
   "cell_type": "code",
   "execution_count": null,
   "metadata": {},
   "outputs": [],
   "source": [
    "#No.2-include selected snp features_decsion tree\n",
    "stat2 = prediction_DT_calc(dummylist_selectedsnps + dummylist_cy + selected_cs)\n",
    "stat2['index'] = \"combo2\"\n",
    "stat2"
   ]
  },
  {
   "cell_type": "code",
   "execution_count": null,
   "metadata": {},
   "outputs": [],
   "source": [
    "#No.2-include selected snp features_random forest\n",
    "stat_rf_2, info = prediction_RF_calc(\n",
    "    dummylist_selectedsnps + dummylist_cy + selected_cs)\n",
    "stat_rf_2['index'] = \"combo2\"\n",
    "stat_rf_2"
   ]
  },
  {
   "cell_type": "code",
   "execution_count": null,
   "metadata": {},
   "outputs": [],
   "source": [
    "#NO3.only include non-snp data_decision tree\n",
    "stat3 = prediction_DT_calc(dummylist_cy + selected_cs)\n",
    "stat3['index'] = \"combo3\"\n",
    "stat3"
   ]
  },
  {
   "cell_type": "code",
   "execution_count": null,
   "metadata": {},
   "outputs": [],
   "source": [
    "#No.3 only include non-snp_random forest\n",
    "stat_rf_3, info = prediction_RF_calc(\n",
    "    dummylist_cy + selected_cs)\n",
    "stat_rf_3['index'] = \"combo3\"\n",
    "stat_rf_3"
   ]
  },
  {
   "cell_type": "code",
   "execution_count": null,
   "metadata": {},
   "outputs": [],
   "source": [
    "#NO.4 only include selected snp features_decision tree\n",
    "stat4 = prediction_DT_calc(dummylist_selectedsnps)\n",
    "stat4['index'] = \"combo4\"\n",
    "stat4"
   ]
  },
  {
   "cell_type": "code",
   "execution_count": null,
   "metadata": {},
   "outputs": [],
   "source": [
    "#NO.4-only include selected snp features_random forest\n",
    "stat_rf_4, info = prediction_RF_calc(\n",
    "    dummylist_selectedsnps)\n",
    "stat_rf_4['index'] = \"combo4\"\n",
    "stat_rf_4"
   ]
  },
  {
   "cell_type": "code",
   "execution_count": null,
   "metadata": {},
   "outputs": [],
   "source": [
    "#NO.5 include all 24 the snps features decision tree\n",
    "stat5 = prediction_DT_calc(dummylist_category_snp_varibles)\n",
    "stat5['index'] = \"combo5\"\n",
    "stat5"
   ]
  },
  {
   "cell_type": "code",
   "execution_count": null,
   "metadata": {},
   "outputs": [],
   "source": [
    "#No.5 only include all 24 SNPs features Random forest\n",
    "\n",
    "stat_rf_5, info = prediction_RF_calc(\n",
    "    dummylist_category_snp_varibles)\n",
    "stat_rf_5['index'] = \"combo5\"\n",
    "stat_rf_5"
   ]
  },
  {
   "cell_type": "code",
   "execution_count": null,
   "metadata": {},
   "outputs": [],
   "source": [
    "final_dt = pd.DataFrame([stat1])\n",
    "df_dt = final_dt.append([stat2]).append([stat3]).append([stat4]).append([stat5])\n",
    "df_dt.index = df_dt['index']\n",
    "df_dt['details'] = ['selected clinical score + ALL snps', 'selected clinical score+ selected snps',\n",
    "                    'selected clinical score', 'selected snps', 'ALL snps']\n",
    "df_dt_final = df_dt[['details', 'mean', 'SD', 'SE']]\n",
    "df_dt_final"
   ]
  },
  {
   "cell_type": "code",
   "execution_count": null,
   "metadata": {},
   "outputs": [],
   "source": [
    "final_rf = pd.DataFrame([stat_rf_1])\n",
    "df_rf = final_rf.append([stat_rf_2]).append([stat_rf_3]).append([stat_rf_4]).append([stat_rf_5])\n",
    "df_rf.index = df_rf['index']\n",
    "df_rf['details'] = ['selected clinical score + ALL snps', 'selected clinical score+ selected snps',\n",
    "                    'selected clinical score', 'selected snps', 'ALL snps']\n",
    "df_rf_final = df_rf[['details', 'mean', 'SD', 'SE']]\n",
    "df_rf_final\n"
   ]
  },
  {
   "cell_type": "code",
   "execution_count": null,
   "metadata": {},
   "outputs": [],
   "source": [
    "sns.barplot( x = df_rf_final.index, y = 'mean', data = df_rf_final) "
   ]
  },
  {
   "cell_type": "code",
   "execution_count": null,
   "metadata": {},
   "outputs": [],
   "source": []
  }
 ],
 "metadata": {
  "kernelspec": {
   "display_name": "Python 3",
   "language": "python",
   "name": "python3"
  },
  "language_info": {
   "codemirror_mode": {
    "name": "ipython",
    "version": 3
   },
   "file_extension": ".py",
   "mimetype": "text/x-python",
   "name": "python",
   "nbconvert_exporter": "python",
   "pygments_lexer": "ipython3",
   "version": "3.7.4"
  }
 },
 "nbformat": 4,
 "nbformat_minor": 2
}
